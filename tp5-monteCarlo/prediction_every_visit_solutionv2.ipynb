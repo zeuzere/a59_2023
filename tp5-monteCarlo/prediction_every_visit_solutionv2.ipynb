{
 "cells": [
  {
   "cell_type": "markdown",
   "metadata": {},
   "source": [
    "# Every-visit MC prediction \n"
   ]
  },
  {
   "cell_type": "markdown",
   "metadata": {},
   "source": [
    " \n",
    "(c) Fabrice Mulotti"
   ]
  },
  {
   "cell_type": "code",
   "execution_count": 1,
   "metadata": {},
   "outputs": [],
   "source": [
    "import gymnasium as gym\n",
    "import pandas as pd\n",
    "from collections import defaultdict"
   ]
  },
  {
   "cell_type": "markdown",
   "metadata": {},
   "source": [
    "Create a blackjack environment:"
   ]
  },
  {
   "cell_type": "code",
   "execution_count": 2,
   "metadata": {},
   "outputs": [],
   "source": [
    "env = gym.make('Blackjack-v1')"
   ]
  },
  {
   "cell_type": "markdown",
   "metadata": {},
   "source": [
    "## Définissons une politque\n",
    "\n",
    "state[0] renvoie le nombre de point du joueur.   \n",
    "\n",
    "L'action :      \n",
    "0 est standby   \n",
    "1 est hit (nouvelle carte)  "
   ]
  },
  {
   "cell_type": "code",
   "execution_count": 3,
   "metadata": {},
   "outputs": [],
   "source": [
    "def policy(pstate):\n",
    "    return 0 if pstate[0] > 19 else 1"
   ]
  },
  {
   "cell_type": "code",
   "execution_count": 4,
   "metadata": {},
   "outputs": [
    {
     "name": "stdout",
     "output_type": "stream",
     "text": [
      "((13, 6, 0), {})\n"
     ]
    }
   ],
   "source": [
    "## créons notre environnement\n",
    "state = env.reset()\n",
    "print(state)"
   ]
  },
  {
   "cell_type": "code",
   "execution_count": 5,
   "metadata": {},
   "outputs": [
    {
     "name": "stdout",
     "output_type": "stream",
     "text": [
      "1\n"
     ]
    }
   ],
   "source": [
    "print(policy(state[0]))"
   ]
  },
  {
   "cell_type": "code",
   "execution_count": null,
   "metadata": {},
   "outputs": [],
   "source": []
  },
  {
   "cell_type": "code",
   "execution_count": 6,
   "metadata": {},
   "outputs": [],
   "source": [
    "# De devrait pas renvoyer d'erreur\n",
    "assert policy([19,2,2]) == 1"
   ]
  },
  {
   "cell_type": "code",
   "execution_count": 7,
   "metadata": {},
   "outputs": [
    {
     "ename": "AssertionError",
     "evalue": "",
     "output_type": "error",
     "traceback": [
      "\u001b[0;31m---------------------------------------------------------------------------\u001b[0m",
      "\u001b[0;31mAssertionError\u001b[0m                            Traceback (most recent call last)",
      "Cell \u001b[0;32mIn[7], line 2\u001b[0m\n\u001b[1;32m      1\u001b[0m \u001b[38;5;66;03m# Devrait renvoyer une erreur\u001b[39;00m\n\u001b[0;32m----> 2\u001b[0m \u001b[38;5;28;01massert\u001b[39;00m policy([\u001b[38;5;241m20\u001b[39m,\u001b[38;5;241m2\u001b[39m,\u001b[38;5;241m2\u001b[39m]) \u001b[38;5;241m==\u001b[39m \u001b[38;5;241m1\u001b[39m\n",
      "\u001b[0;31mAssertionError\u001b[0m: "
     ]
    }
   ],
   "source": [
    "# Devrait renvoyer une erreur\n",
    "assert policy([20,2,2]) == 1"
   ]
  },
  {
   "cell_type": "markdown",
   "metadata": {},
   "source": [
    "***\n",
    "## Generatrice d'épisode\n",
    "Notre prochain fonction va nous permettre de générer des épisodes\n"
   ]
  },
  {
   "cell_type": "code",
   "execution_count": 8,
   "metadata": {},
   "outputs": [],
   "source": [
    "def generate_episode(policy,max_turn):\n",
    "    \n",
    "    # Enregistrement des épisodes\n",
    "    episode = []\n",
    "    \n",
    "    # Remise à zéro env\n",
    "    ge_state = env.reset()[0]\n",
    "  \n",
    "    # déroulement de la partie\n",
    "    for i in range(max_turn):\n",
    "        # choix d'une action en fonction de notre police\n",
    "        action = policy(ge_state)\n",
    "        \n",
    "        # on joue notre action en on récupère les résultats\n",
    "        ge_next_state, reward, done, truncated, info = env.step(action)\n",
    "        \n",
    "        # enregistrement\n",
    "        episode.append((ge_state, action, reward))\n",
    "        \n",
    "        # Condition de fin ?\n",
    "        if done or truncated:\n",
    "            break\n",
    "\n",
    "        # sinon la partie continue\n",
    "        ge_state = ge_next_state\n",
    "\n",
    "    return episode"
   ]
  },
  {
   "cell_type": "code",
   "execution_count": 15,
   "metadata": {},
   "outputs": [
    {
     "data": {
      "text/plain": [
       "[((12, 3, 0), 1, 0.0), ((20, 3, 0), 0, 0.0)]"
      ]
     },
     "execution_count": 15,
     "metadata": {},
     "output_type": "execute_result"
    }
   ],
   "source": [
    "# Devrait produit une partie\n",
    "generate_episode(policy,100)"
   ]
  },
  {
   "cell_type": "markdown",
   "metadata": {},
   "source": [
    "***\n",
    "## Calcul de la fonction de valeur\n",
    "\n",
    "Nous allons devoir générer un grand nombre d'épisode et ajuster la `valeur moyenne de v` à chaque passage sur un état s\n",
    "\n",
    " "
   ]
  },
  {
   "cell_type": "code",
   "execution_count": 16,
   "metadata": {},
   "outputs": [],
   "source": [
    "# total_return = fonction de valeur pour chaque état\n",
    "total_return = defaultdict(float)\n",
    "\n",
    "# N nombre de passage sur chaque état\n",
    "N = defaultdict(int)"
   ]
  },
  {
   "cell_type": "code",
   "execution_count": 17,
   "metadata": {},
   "outputs": [],
   "source": [
    "# Nombre d'itération\n",
    "num_iterations = 50000\n",
    "gamma=0.90"
   ]
  },
  {
   "cell_type": "code",
   "execution_count": 18,
   "metadata": {},
   "outputs": [],
   "source": [
    "for i in range(num_iterations):\n",
    "    \n",
    "    # générons un épisode\n",
    "    episode = generate_episode(policy,100)\n",
    "\n",
    "    # stockons l'état, action et récompense obtenue / zip permet de prendre chaque 1, 2eme, 3eme.. terme\n",
    "    states, actions, rewards = zip(*episode)\n",
    "    # pour chaque état rencontré dans l'épisode\n",
    "\n",
    "    G=0\n",
    "    # print(states)\n",
    "    for t in range(len(states)-1,-1,-1):\n",
    "        state=states[t]\n",
    "        # print(f\"t={t}, state={state}, R={R}\")\n",
    "        R=R*gamma+rewards[t]\n",
    "        # if state not in states[t:]:\n",
    "        total_return[state] += R\n",
    "        N[state] += 1\n",
    "            "
   ]
  },
  {
   "cell_type": "markdown",
   "metadata": {},
   "source": [
    "***\n",
    "## Analysons nos résultats\n",
    "Convertissons les données en dataframe pour une lecture plus facile"
   ]
  },
  {
   "cell_type": "code",
   "execution_count": 19,
   "metadata": {},
   "outputs": [],
   "source": [
    "total_return = pd.DataFrame(total_return.items(),columns=['state', 'total_return'])"
   ]
  },
  {
   "cell_type": "code",
   "execution_count": 20,
   "metadata": {},
   "outputs": [],
   "source": [
    "N = pd.DataFrame(N.items(),columns=['state', 'N'])"
   ]
  },
  {
   "cell_type": "markdown",
   "metadata": {},
   "source": [
    "Merge des deux dataframe"
   ]
  },
  {
   "cell_type": "code",
   "execution_count": 21,
   "metadata": {},
   "outputs": [],
   "source": [
    "df = pd.merge(total_return, N, on=\"state\")"
   ]
  },
  {
   "cell_type": "markdown",
   "metadata": {},
   "source": [
    "Résultat : "
   ]
  },
  {
   "cell_type": "code",
   "execution_count": 22,
   "metadata": {},
   "outputs": [
    {
     "data": {
      "text/html": [
       "<div>\n",
       "<style scoped>\n",
       "    .dataframe tbody tr th:only-of-type {\n",
       "        vertical-align: middle;\n",
       "    }\n",
       "\n",
       "    .dataframe tbody tr th {\n",
       "        vertical-align: top;\n",
       "    }\n",
       "\n",
       "    .dataframe thead th {\n",
       "        text-align: right;\n",
       "    }\n",
       "</style>\n",
       "<table border=\"1\" class=\"dataframe\">\n",
       "  <thead>\n",
       "    <tr style=\"text-align: right;\">\n",
       "      <th></th>\n",
       "      <th>state</th>\n",
       "      <th>total_return</th>\n",
       "      <th>N</th>\n",
       "    </tr>\n",
       "  </thead>\n",
       "  <tbody>\n",
       "    <tr>\n",
       "      <th>0</th>\n",
       "      <td>(14, 10, 0)</td>\n",
       "      <td>-1180.45190</td>\n",
       "      <td>1942</td>\n",
       "    </tr>\n",
       "    <tr>\n",
       "      <th>1</th>\n",
       "      <td>(12, 10, 0)</td>\n",
       "      <td>-992.83641</td>\n",
       "      <td>1783</td>\n",
       "    </tr>\n",
       "    <tr>\n",
       "      <th>2</th>\n",
       "      <td>(17, 10, 1)</td>\n",
       "      <td>-108.01080</td>\n",
       "      <td>265</td>\n",
       "    </tr>\n",
       "    <tr>\n",
       "      <th>3</th>\n",
       "      <td>(20, 2, 0)</td>\n",
       "      <td>503.00000</td>\n",
       "      <td>776</td>\n",
       "    </tr>\n",
       "    <tr>\n",
       "      <th>4</th>\n",
       "      <td>(17, 2, 0)</td>\n",
       "      <td>-351.52000</td>\n",
       "      <td>516</td>\n",
       "    </tr>\n",
       "    <tr>\n",
       "      <th>5</th>\n",
       "      <td>(12, 7, 0)</td>\n",
       "      <td>-249.18880</td>\n",
       "      <td>487</td>\n",
       "    </tr>\n",
       "    <tr>\n",
       "      <th>6</th>\n",
       "      <td>(15, 7, 0)</td>\n",
       "      <td>-313.45100</td>\n",
       "      <td>521</td>\n",
       "    </tr>\n",
       "    <tr>\n",
       "      <th>7</th>\n",
       "      <td>(13, 4, 0)</td>\n",
       "      <td>-275.69400</td>\n",
       "      <td>491</td>\n",
       "    </tr>\n",
       "    <tr>\n",
       "      <th>8</th>\n",
       "      <td>(20, 9, 0)</td>\n",
       "      <td>503.00000</td>\n",
       "      <td>679</td>\n",
       "    </tr>\n",
       "    <tr>\n",
       "      <th>9</th>\n",
       "      <td>(10, 9, 0)</td>\n",
       "      <td>-14.44410</td>\n",
       "      <td>187</td>\n",
       "    </tr>\n",
       "  </tbody>\n",
       "</table>\n",
       "</div>"
      ],
      "text/plain": [
       "         state  total_return     N\n",
       "0  (14, 10, 0)   -1180.45190  1942\n",
       "1  (12, 10, 0)    -992.83641  1783\n",
       "2  (17, 10, 1)    -108.01080   265\n",
       "3   (20, 2, 0)     503.00000   776\n",
       "4   (17, 2, 0)    -351.52000   516\n",
       "5   (12, 7, 0)    -249.18880   487\n",
       "6   (15, 7, 0)    -313.45100   521\n",
       "7   (13, 4, 0)    -275.69400   491\n",
       "8   (20, 9, 0)     503.00000   679\n",
       "9   (10, 9, 0)     -14.44410   187"
      ]
     },
     "execution_count": 22,
     "metadata": {},
     "output_type": "execute_result"
    }
   ],
   "source": [
    "df.head(10)"
   ]
  },
  {
   "cell_type": "markdown",
   "metadata": {},
   "source": [
    "Calculons la fonction de valeur.\n",
    "A ce stade nous avons tous les éléments (cumul des G et nombre de passage N)"
   ]
  },
  {
   "cell_type": "code",
   "execution_count": 23,
   "metadata": {},
   "outputs": [],
   "source": [
    "df['value'] = df['total_return']/df['N']"
   ]
  },
  {
   "cell_type": "code",
   "execution_count": 24,
   "metadata": {},
   "outputs": [
    {
     "data": {
      "text/html": [
       "<div>\n",
       "<style scoped>\n",
       "    .dataframe tbody tr th:only-of-type {\n",
       "        vertical-align: middle;\n",
       "    }\n",
       "\n",
       "    .dataframe tbody tr th {\n",
       "        vertical-align: top;\n",
       "    }\n",
       "\n",
       "    .dataframe thead th {\n",
       "        text-align: right;\n",
       "    }\n",
       "</style>\n",
       "<table border=\"1\" class=\"dataframe\">\n",
       "  <thead>\n",
       "    <tr style=\"text-align: right;\">\n",
       "      <th></th>\n",
       "      <th>state</th>\n",
       "      <th>total_return</th>\n",
       "      <th>N</th>\n",
       "      <th>value</th>\n",
       "    </tr>\n",
       "  </thead>\n",
       "  <tbody>\n",
       "    <tr>\n",
       "      <th>0</th>\n",
       "      <td>(14, 10, 0)</td>\n",
       "      <td>-1180.45190</td>\n",
       "      <td>1942</td>\n",
       "      <td>-0.607854</td>\n",
       "    </tr>\n",
       "    <tr>\n",
       "      <th>1</th>\n",
       "      <td>(12, 10, 0)</td>\n",
       "      <td>-992.83641</td>\n",
       "      <td>1783</td>\n",
       "      <td>-0.556835</td>\n",
       "    </tr>\n",
       "    <tr>\n",
       "      <th>2</th>\n",
       "      <td>(17, 10, 1)</td>\n",
       "      <td>-108.01080</td>\n",
       "      <td>265</td>\n",
       "      <td>-0.407588</td>\n",
       "    </tr>\n",
       "    <tr>\n",
       "      <th>3</th>\n",
       "      <td>(20, 2, 0)</td>\n",
       "      <td>503.00000</td>\n",
       "      <td>776</td>\n",
       "      <td>0.648196</td>\n",
       "    </tr>\n",
       "    <tr>\n",
       "      <th>4</th>\n",
       "      <td>(17, 2, 0)</td>\n",
       "      <td>-351.52000</td>\n",
       "      <td>516</td>\n",
       "      <td>-0.681240</td>\n",
       "    </tr>\n",
       "    <tr>\n",
       "      <th>5</th>\n",
       "      <td>(12, 7, 0)</td>\n",
       "      <td>-249.18880</td>\n",
       "      <td>487</td>\n",
       "      <td>-0.511681</td>\n",
       "    </tr>\n",
       "    <tr>\n",
       "      <th>6</th>\n",
       "      <td>(15, 7, 0)</td>\n",
       "      <td>-313.45100</td>\n",
       "      <td>521</td>\n",
       "      <td>-0.601633</td>\n",
       "    </tr>\n",
       "    <tr>\n",
       "      <th>7</th>\n",
       "      <td>(13, 4, 0)</td>\n",
       "      <td>-275.69400</td>\n",
       "      <td>491</td>\n",
       "      <td>-0.561495</td>\n",
       "    </tr>\n",
       "    <tr>\n",
       "      <th>8</th>\n",
       "      <td>(20, 9, 0)</td>\n",
       "      <td>503.00000</td>\n",
       "      <td>679</td>\n",
       "      <td>0.740795</td>\n",
       "    </tr>\n",
       "    <tr>\n",
       "      <th>9</th>\n",
       "      <td>(10, 9, 0)</td>\n",
       "      <td>-14.44410</td>\n",
       "      <td>187</td>\n",
       "      <td>-0.077241</td>\n",
       "    </tr>\n",
       "    <tr>\n",
       "      <th>10</th>\n",
       "      <td>(21, 9, 0)</td>\n",
       "      <td>334.00000</td>\n",
       "      <td>354</td>\n",
       "      <td>0.943503</td>\n",
       "    </tr>\n",
       "    <tr>\n",
       "      <th>11</th>\n",
       "      <td>(17, 9, 0)</td>\n",
       "      <td>-353.16200</td>\n",
       "      <td>508</td>\n",
       "      <td>-0.695201</td>\n",
       "    </tr>\n",
       "    <tr>\n",
       "      <th>12</th>\n",
       "      <td>(20, 3, 1)</td>\n",
       "      <td>58.00000</td>\n",
       "      <td>95</td>\n",
       "      <td>0.610526</td>\n",
       "    </tr>\n",
       "    <tr>\n",
       "      <th>13</th>\n",
       "      <td>(19, 5, 0)</td>\n",
       "      <td>-389.90000</td>\n",
       "      <td>538</td>\n",
       "      <td>-0.724721</td>\n",
       "    </tr>\n",
       "    <tr>\n",
       "      <th>14</th>\n",
       "      <td>(19, 10, 0)</td>\n",
       "      <td>-1654.00000</td>\n",
       "      <td>2186</td>\n",
       "      <td>-0.756633</td>\n",
       "    </tr>\n",
       "    <tr>\n",
       "      <th>15</th>\n",
       "      <td>(19, 10, 1)</td>\n",
       "      <td>-138.86190</td>\n",
       "      <td>340</td>\n",
       "      <td>-0.408417</td>\n",
       "    </tr>\n",
       "    <tr>\n",
       "      <th>16</th>\n",
       "      <td>(20, 8, 0)</td>\n",
       "      <td>593.00000</td>\n",
       "      <td>755</td>\n",
       "      <td>0.785430</td>\n",
       "    </tr>\n",
       "    <tr>\n",
       "      <th>17</th>\n",
       "      <td>(13, 8, 0)</td>\n",
       "      <td>-233.55690</td>\n",
       "      <td>461</td>\n",
       "      <td>-0.506631</td>\n",
       "    </tr>\n",
       "    <tr>\n",
       "      <th>18</th>\n",
       "      <td>(12, 8, 0)</td>\n",
       "      <td>-228.34100</td>\n",
       "      <td>449</td>\n",
       "      <td>-0.508555</td>\n",
       "    </tr>\n",
       "    <tr>\n",
       "      <th>19</th>\n",
       "      <td>(7, 8, 0)</td>\n",
       "      <td>-36.38700</td>\n",
       "      <td>111</td>\n",
       "      <td>-0.327811</td>\n",
       "    </tr>\n",
       "  </tbody>\n",
       "</table>\n",
       "</div>"
      ],
      "text/plain": [
       "          state  total_return     N     value\n",
       "0   (14, 10, 0)   -1180.45190  1942 -0.607854\n",
       "1   (12, 10, 0)    -992.83641  1783 -0.556835\n",
       "2   (17, 10, 1)    -108.01080   265 -0.407588\n",
       "3    (20, 2, 0)     503.00000   776  0.648196\n",
       "4    (17, 2, 0)    -351.52000   516 -0.681240\n",
       "5    (12, 7, 0)    -249.18880   487 -0.511681\n",
       "6    (15, 7, 0)    -313.45100   521 -0.601633\n",
       "7    (13, 4, 0)    -275.69400   491 -0.561495\n",
       "8    (20, 9, 0)     503.00000   679  0.740795\n",
       "9    (10, 9, 0)     -14.44410   187 -0.077241\n",
       "10   (21, 9, 0)     334.00000   354  0.943503\n",
       "11   (17, 9, 0)    -353.16200   508 -0.695201\n",
       "12   (20, 3, 1)      58.00000    95  0.610526\n",
       "13   (19, 5, 0)    -389.90000   538 -0.724721\n",
       "14  (19, 10, 0)   -1654.00000  2186 -0.756633\n",
       "15  (19, 10, 1)    -138.86190   340 -0.408417\n",
       "16   (20, 8, 0)     593.00000   755  0.785430\n",
       "17   (13, 8, 0)    -233.55690   461 -0.506631\n",
       "18   (12, 8, 0)    -228.34100   449 -0.508555\n",
       "19    (7, 8, 0)     -36.38700   111 -0.327811"
      ]
     },
     "execution_count": 24,
     "metadata": {},
     "output_type": "execute_result"
    }
   ],
   "source": [
    "df.head(20)"
   ]
  },
  {
   "cell_type": "markdown",
   "metadata": {},
   "source": [
    "***\n",
    "## Analyse\n",
    "\n",
    "A ce stade nous pouvons apprécier la valeur de notre politique (seuil à 19).\n",
    "Exemple dans une situation ou nous avons 21 points, et par exemple le croupier 9 points \n",
    "\n"
   ]
  },
  {
   "cell_type": "code",
   "execution_count": 30,
   "metadata": {},
   "outputs": [
    {
     "data": {
      "text/plain": [
       "array([0.90370852])"
      ]
     },
     "execution_count": 30,
     "metadata": {},
     "output_type": "execute_result"
    }
   ],
   "source": [
    "df[df['state']==(21,10,False)]['value'].values"
   ]
  },
  {
   "cell_type": "code",
   "execution_count": 34,
   "metadata": {},
   "outputs": [
    {
     "data": {
      "text/html": [
       "<div>\n",
       "<style scoped>\n",
       "    .dataframe tbody tr th:only-of-type {\n",
       "        vertical-align: middle;\n",
       "    }\n",
       "\n",
       "    .dataframe tbody tr th {\n",
       "        vertical-align: top;\n",
       "    }\n",
       "\n",
       "    .dataframe thead th {\n",
       "        text-align: right;\n",
       "    }\n",
       "</style>\n",
       "<table border=\"1\" class=\"dataframe\">\n",
       "  <thead>\n",
       "    <tr style=\"text-align: right;\">\n",
       "      <th></th>\n",
       "      <th>state</th>\n",
       "      <th>total_return</th>\n",
       "      <th>N</th>\n",
       "      <th>value</th>\n",
       "    </tr>\n",
       "  </thead>\n",
       "  <tbody>\n",
       "    <tr>\n",
       "      <th>46</th>\n",
       "      <td>(21, 10, 0)</td>\n",
       "      <td>1389.0</td>\n",
       "      <td>1537</td>\n",
       "      <td>0.903709</td>\n",
       "    </tr>\n",
       "  </tbody>\n",
       "</table>\n",
       "</div>"
      ],
      "text/plain": [
       "          state  total_return     N     value\n",
       "46  (21, 10, 0)        1389.0  1537  0.903709"
      ]
     },
     "execution_count": 34,
     "metadata": {},
     "output_type": "execute_result"
    }
   ],
   "source": [
    "df[df['state']==(21,10,False)]"
   ]
  },
  {
   "cell_type": "markdown",
   "metadata": {},
   "source": [
    "La fonction de valeur est proche de 1. Donc efficiente.\n",
    "\n",
    "A contrario regardons ce résultat pour une situation ou nous avons 5 points et le croupier 8 points :"
   ]
  },
  {
   "cell_type": "code",
   "execution_count": 35,
   "metadata": {},
   "outputs": [
    {
     "data": {
      "text/plain": [
       "array([-0.48265116])"
      ]
     },
     "execution_count": 35,
     "metadata": {},
     "output_type": "execute_result"
    }
   ],
   "source": [
    "df[df['state']==(5,8,False)]['value'].values"
   ]
  },
  {
   "cell_type": "markdown",
   "metadata": {},
   "source": [
    "La valeur est moindre car l'incertitude de la suite de la partie plus grande"
   ]
  },
  {
   "cell_type": "markdown",
   "metadata": {},
   "source": [
    "Impact d'avoir un AS"
   ]
  },
  {
   "cell_type": "code",
   "execution_count": 39,
   "metadata": {},
   "outputs": [
    {
     "data": {
      "text/plain": [
       "array([-0.30662707])"
      ]
     },
     "execution_count": 39,
     "metadata": {},
     "output_type": "execute_result"
    }
   ],
   "source": [
    "df[df['state']==(12,10,True)]['value'].values"
   ]
  },
  {
   "cell_type": "code",
   "execution_count": 40,
   "metadata": {},
   "outputs": [
    {
     "data": {
      "text/plain": [
       "array([-0.55683478])"
      ]
     },
     "execution_count": 40,
     "metadata": {},
     "output_type": "execute_result"
    }
   ],
   "source": [
    "df[df['state']==(12,10,False)]['value'].values"
   ]
  },
  {
   "cell_type": "code",
   "execution_count": null,
   "metadata": {},
   "outputs": [],
   "source": []
  }
 ],
 "metadata": {
  "kernelspec": {
   "display_name": "rl2023",
   "language": "python",
   "name": "rl2023"
  },
  "language_info": {
   "codemirror_mode": {
    "name": "ipython",
    "version": 3
   },
   "file_extension": ".py",
   "mimetype": "text/x-python",
   "name": "python",
   "nbconvert_exporter": "python",
   "pygments_lexer": "ipython3",
   "version": "3.9.2"
  }
 },
 "nbformat": 4,
 "nbformat_minor": 4
}

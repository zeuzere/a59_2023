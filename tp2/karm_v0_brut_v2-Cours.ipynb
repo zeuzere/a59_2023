{
 "cells": [
  {
   "cell_type": "markdown",
   "id": "265678b0-4713-4312-ae2e-67baeb2352fc",
   "metadata": {},
   "source": [
    "---\n",
    "# KARM\n",
    "\n",
    "Un problème d' __optimisation__\n",
    "\n",
    "Fabrice Mulotti\n",
    "Licence MIT"
   ]
  },
  {
   "cell_type": "code",
   "execution_count": 1,
   "id": "54bdbf6c-2660-4ce5-af13-fc8936c69755",
   "metadata": {
    "tags": []
   },
   "outputs": [],
   "source": [
    "import numpy as np\n",
    "import pandas as pd\n",
    "import matplotlib.pyplot as plt\n",
    "import seaborn as sbn\n",
    "from os import path\n",
    "import sys\n"
   ]
  },
  {
   "cell_type": "markdown",
   "id": "df0e12e3",
   "metadata": {},
   "source": [
    "## Définissons les paramètres de notre environnement"
   ]
  },
  {
   "cell_type": "code",
   "execution_count": 2,
   "id": "3dbd9591-f250-4422-a2b2-22ad423ad587",
   "metadata": {
    "tags": []
   },
   "outputs": [],
   "source": [
    "K=5 # nombre de bras\n",
    "recompense_centre=5 # récompense moyenne\n",
    "dispersion_recompense=4 # écart par rapport à la moyenne\n",
    "dispersion_resultat_par_bras=2.0 # facteur pour l`écart type appliqué à chaque bras lors des tirages\n"
   ]
  },
  {
   "cell_type": "markdown",
   "id": "6f9fd248",
   "metadata": {},
   "source": [
    "## Déterminer pour chaque bras sa récompense moyenne et l'écart type"
   ]
  },
  {
   "cell_type": "code",
   "execution_count": 3,
   "id": "d4a84cc3-4b4c-4c73-82f4-f09441417112",
   "metadata": {
    "tags": []
   },
   "outputs": [],
   "source": [
    "np.random.seed(seed=42)\n",
    "recompense_moyenne_bras = np.random.random(K)*dispersion_recompense+5\n",
    "ecart_type_bras = (np.random.random(K)+0.5)*dispersion_resultat_par_bras"
   ]
  },
  {
   "cell_type": "code",
   "execution_count": 4,
   "id": "9916edd4-b84f-4f75-aebe-962ece220f3b",
   "metadata": {
    "tags": []
   },
   "outputs": [
    {
     "data": {
      "text/plain": [
       "array([6.49816048, 8.80285723, 7.92797577, 7.39463394, 5.62407456])"
      ]
     },
     "execution_count": 4,
     "metadata": {},
     "output_type": "execute_result"
    }
   ],
   "source": [
    "recompense_moyenne_bras"
   ]
  },
  {
   "cell_type": "code",
   "execution_count": 5,
   "id": "c3e60731-3131-466f-8671-c585e51b53ac",
   "metadata": {
    "tags": []
   },
   "outputs": [
    {
     "name": "stdout",
     "output_type": "stream",
     "text": [
      "Ordre des bras décroissant [1 2 3 0 4]\n"
     ]
    }
   ],
   "source": [
    "reference = np.flip(np.argsort(recompense_moyenne_bras))\n",
    "print(f\"Ordre des bras décroissant {reference}\")"
   ]
  },
  {
   "cell_type": "code",
   "execution_count": 6,
   "id": "f5a6d174-3f2f-40dc-acae-bc8f9b4bb5fc",
   "metadata": {
    "scrolled": true,
    "tags": []
   },
   "outputs": [
    {
     "data": {
      "text/plain": [
       "array([1.31198904, 1.11616722, 2.73235229, 2.20223002, 2.41614516])"
      ]
     },
     "execution_count": 6,
     "metadata": {},
     "output_type": "execute_result"
    }
   ],
   "source": [
    "ecart_type_bras"
   ]
  },
  {
   "cell_type": "code",
   "execution_count": 7,
   "id": "29edb58b-31c0-43b9-a39d-02e0727f031a",
   "metadata": {},
   "outputs": [],
   "source": [
    "## Visualisons sur 10000 tirages à  quoi ressemble les "
   ]
  },
  {
   "cell_type": "code",
   "execution_count": 8,
   "id": "e87328cf-203d-4142-a540-3e44d8923c25",
   "metadata": {
    "tags": []
   },
   "outputs": [],
   "source": [
    "np.random.seed(2023)\n",
    "tirage=10000\n",
    "sample = np.zeros((tirage,K))\n",
    "for i in range(K):\n",
    "    for j in range(tirage):\n",
    "        sample[j,i]=np.random.normal(recompense_moyenne_bras[i],ecart_type_bras[i])"
   ]
  },
  {
   "cell_type": "code",
   "execution_count": 9,
   "id": "9d80bc88-afa3-4294-b20f-5e5236b8429e",
   "metadata": {
    "tags": []
   },
   "outputs": [
    {
     "data": {
      "image/png": "[encoded data removed]",
      "text/plain": [
       "<Figure size 640x480 with 1 Axes>"
      ]
     },
     "metadata": {},
     "output_type": "display_data"
    }
   ],
   "source": [
    "plt.figure()\n",
    "sbn.boxplot(sample)\n",
    "plt.xlabel(\"Bras\")\n",
    "plt.ylabel(\"Récompense\")\n",
    "plt.show()"
   ]
  },
  {
   "cell_type": "markdown",
   "id": "c09019a0-fb7b-4b31-8b63-c41724f75fd2",
   "metadata": {},
   "source": [
    "![boxplots.jpg](static/boxplots.jpg)"
   ]
  },
  {
   "cell_type": "markdown",
   "id": "f0ebcc1d-d8c4-49af-abc2-b093622f7bf7",
   "metadata": {
    "tags": []
   },
   "source": [
    "***\n",
    "## Functions et classes"
   ]
  },
  {
   "cell_type": "markdown",
   "id": "b628fb0c-b857-4590-88d3-51a19d574ae1",
   "metadata": {
    "tags": []
   },
   "source": [
    "### Pour être capable comparer nos résultats, nous allons utiliser un Dataframe pandas"
   ]
  },
  {
   "cell_type": "code",
   "execution_count": 11,
   "id": "0fbc6e27-c11b-4d2e-9999-d9f2adda5110",
   "metadata": {
    "tags": []
   },
   "outputs": [],
   "source": [
    "def tirage(bras):\n",
    "    # tirage pour un bras\n",
    "    # entrée : numéro du bras\n",
    "    # sortie : récompense pour un tirage\n",
    "    return np.random.normal(recompense_moyenne_bras[bras],ecart_type_bras[bras])"
   ]
  },
  {
   "cell_type": "code",
   "execution_count": null,
   "id": "861ef8c2",
   "metadata": {},
   "outputs": [],
   "source": []
  },
  {
   "cell_type": "markdown",
   "id": "15ca0f79-52fb-4057-b42b-855379273aba",
   "metadata": {},
   "source": [
    "---\n",
    "## Round Robin\n",
    "\n",
    "Dans une approche Round Robin, on tire un même nombre de fois chaque bras.\n",
    "C'est donc une approche 'brute'."
   ]
  },
  {
   "cell_type": "code",
   "execution_count": 10,
   "id": "be722067-21f7-40a8-928f-84bb3d081b98",
   "metadata": {},
   "outputs": [],
   "source": [
    "# Ecrire une fonction qui renvoie les numéros de bras alternativement\n",
    "# exmeple 0 -> 1 -> 2 -> 3 -> 4 -> 0 ......\n",
    "\n",
    "def RoundRobinPolicy(action,K):\n",
    "    # Round robin policy : tire un bras l'un après l'autre\n",
    "    # input : mode = 0 : reinitialise, 1 : tire et incrémente, K nombre de bras\n",
    "    # output : numéro de bras\n",
    "\n",
    "    # VOTRE CODE\n",
    "\n",
    "    return (action+1) % K\n"
   ]
  },
  {
   "cell_type": "markdown",
   "id": "57c83c48-b096-4ce1-b907-c52eb5dbef09",
   "metadata": {},
   "source": [
    "A tester avec __100__, __1000__ et __10000__ tirages.\n",
    "Que constate t on ?"
   ]
  },
  {
   "cell_type": "code",
   "execution_count": 12,
   "id": "1199c0fe-5de8-4a27-bf44-91b9a23b853a",
   "metadata": {
    "tags": []
   },
   "outputs": [],
   "source": [
    "np.random.seed(2023)\n",
    "nombre_tirage=10000\n",
    "\n",
    "# conserver cet appel pour la suite pour comparer les résultats\n",
    "# nombre de bras , valeur initial de la moyenne des récompenses, nom de la politique\n",
    "result = []\n",
    "action = -1\n",
    "\n",
    "for i in range(nombre_tirage):\n",
    "    action = RoundRobinPolicy(action,K)\n",
    "    reward = tirage(action)\n",
    "    result.append(reward)\n",
    "\n",
    "    "
   ]
  },
  {
   "cell_type": "code",
   "execution_count": 13,
   "id": "25edb27f",
   "metadata": {},
   "outputs": [
    {
     "data": {
      "text/plain": [
       "[7.431868347630945,\n",
       " 8.440677752859905,\n",
       " 5.190512231866764,\n",
       " 7.914912528474073,\n",
       " 5.377241556129524,\n",
       " 5.000797058616593,\n",
       " 11.765619610351418,\n",
       " 11.864216668989643,\n",
       " 7.612439485995557,\n",
       " -1.9180002280073136]"
      ]
     },
     "execution_count": 13,
     "metadata": {},
     "output_type": "execute_result"
    }
   ],
   "source": [
    "result[0:10]"
   ]
  },
  {
   "cell_type": "code",
   "execution_count": 14,
   "id": "31ece0d1",
   "metadata": {},
   "outputs": [],
   "source": [
    "result_round_robin  = np.cumsum(result)"
   ]
  },
  {
   "cell_type": "code",
   "execution_count": 15,
   "id": "821ccaa5",
   "metadata": {},
   "outputs": [
    {
     "data": {
      "text/plain": [
       "array([ 7.43186835, 15.8725461 , 21.06305833, 28.97797086, 34.35521242,\n",
       "       39.35600948, 51.12162909, 62.98584575, 70.59828524, 68.68028501])"
      ]
     },
     "execution_count": 15,
     "metadata": {},
     "output_type": "execute_result"
    }
   ],
   "source": [
    "result_round_robin[0:10]"
   ]
  },
  {
   "cell_type": "code",
   "execution_count": 16,
   "id": "9e45d44f",
   "metadata": {},
   "outputs": [
    {
     "data": {
      "image/png": "[encoded data removed]",
      "text/plain": [
       "<Figure size 640x480 with 1 Axes>"
      ]
     },
     "metadata": {},
     "output_type": "display_data"
    }
   ],
   "source": [
    "plt.figure()\n",
    "plt.plot(result_round_robin)\n",
    "plt.show()"
   ]
  },
  {
   "cell_type": "markdown",
   "id": "98f68359-b41c-40fd-9672-caeb9f464761",
   "metadata": {},
   "source": [
    "---\n",
    "# Greedy - valeur initiale élévée<br>\n",
    "Avec une politique Greedy, notre algorithme choisi toujours le bras qui offre le meilleur rendement.\n",
    "\n",
    "Donc si on a pas évalué au préalable les bras, et dans un environnement stable, il n'y a pas d'intérêt.\n"
   ]
  },
  {
   "cell_type": "code",
   "execution_count": 21,
   "id": "810a848e",
   "metadata": {},
   "outputs": [],
   "source": [
    "def mean_reward(Q,N):\n",
    "    return np.divide(Q,N,where=N>0)"
   ]
  },
  {
   "cell_type": "code",
   "execution_count": 40,
   "id": "bce99d96-aeb3-4d83-a40d-076176c65c87",
   "metadata": {},
   "outputs": [],
   "source": [
    "def greedyPolicy(num_action, mean_reward_per_arm):\n",
    "    # purpose : choisi le bras qui rapporte le plus\n",
    "    # input : nombre de bras, moyenne de résultat connu par bras.\n",
    "    # output : bras choisi\n",
    "\n",
    "    # votre code\n",
    "    action = np.argmax(mean_reward_per_arm)\n",
    "    return action"
   ]
  },
  {
   "cell_type": "code",
   "execution_count": 41,
   "id": "92667106-0087-4067-a1ab-bc6e6cf982f1",
   "metadata": {},
   "outputs": [],
   "source": [
    "np.random.seed(2023)\n",
    "nombre_tirage=10000\n",
    "\n",
    "Q=np.full((K),10)\n",
    "N=np.full((K),1)\n",
    "\n",
    "result = []\n",
    "for i in range(nombre_tirage):\n",
    "    action=greedyPolicy(K,mean_reward(Q,N))\n",
    "    reward=tirage(action)\n",
    "    Q[action] += reward\n",
    "    N[action] += 1\n",
    "    result.append(reward)\n",
    "    # print(mean_reward(Q,N))\n"
   ]
  },
  {
   "cell_type": "code",
   "execution_count": 42,
   "id": "42e6c1be",
   "metadata": {},
   "outputs": [
    {
     "data": {
      "text/plain": [
       "array([   7, 9991,    2,    3,    2])"
      ]
     },
     "execution_count": 42,
     "metadata": {},
     "output_type": "execute_result"
    }
   ],
   "source": [
    "N"
   ]
  },
  {
   "cell_type": "code",
   "execution_count": null,
   "id": "1fae7396",
   "metadata": {},
   "outputs": [],
   "source": [
    "10 10 10\n",
    "15/2=7 10 10\n",
    "7 10+8=18/2=9 10\n",
    "7 9 10+2=12/2=6\n",
    "7 9 6"
   ]
  },
  {
   "cell_type": "code",
   "execution_count": 43,
   "id": "62ea560c",
   "metadata": {},
   "outputs": [],
   "source": [
    "# stocker le résultat dans un tableau avec cumul\n",
    "result_greedy_optimiste = np.cumsum(result)"
   ]
  },
  {
   "cell_type": "code",
   "execution_count": 44,
   "id": "481279c0",
   "metadata": {},
   "outputs": [
    {
     "data": {
      "image/png": "[encoded data removed]",
      "text/plain": [
       "<Figure size 640x480 with 1 Axes>"
      ]
     },
     "metadata": {},
     "output_type": "display_data"
    }
   ],
   "source": [
    "# comparer les courbes\n",
    "plt.figure()\n",
    "plt.plot(result_round_robin,label=\"Round Robin\")\n",
    "plt.plot(result_greedy_optimiste,label=\"Greedy Optimiste\")\n",
    "plt.legend()\n",
    "plt.show()"
   ]
  },
  {
   "cell_type": "markdown",
   "id": "677d2d1a-8efc-4b47-a101-fb48044274e1",
   "metadata": {},
   "source": [
    "***\n",
    "## e-Greedy\n",
    "\n",
    "e-Greedy (epsilon-glouton) choisit l'action réputée la plus payante selon une probabilité 1-epsilon ou aléatoire selon une probabilité epsilon.\n",
    "\n",
    "Il va intéressant de jouer avec les deux paramètres :<br>\n",
    "__epsilon__<br>\n",
    "__la valeur initiale__<br>\n",
    "\n",
    "A noter que dès 1000 tirage, egreedy a trouver 100% des bras par ordre de rendement"
   ]
  },
  {
   "cell_type": "code",
   "execution_count": 45,
   "id": "de8da11d",
   "metadata": {
    "tags": []
   },
   "outputs": [],
   "source": [
    "def egreedyPolicy(num_action,epsilon,mean_reward_per_arm):\n",
    "\n",
    "    # votre code\n",
    "    r=np.random.uniform()\n",
    "    if r<epsilon:\n",
    "        return np.random.randint(num_action)\n",
    "    \n",
    "    return(np.argmax(mean_reward_per_arm))"
   ]
  },
  {
   "cell_type": "code",
   "execution_count": 47,
   "id": "c4c91d90-78a4-470e-b14e-ff503bff9236",
   "metadata": {
    "tags": []
   },
   "outputs": [],
   "source": [
    "np.random.seed(2023)\n",
    "nombre_tirage=10000\n",
    "epsilon=0.20\n",
    "\n",
    "result=[]\n",
    "N=np.zeros((K))\n",
    "Q=np.zeros((K))\n",
    "\n",
    "for i in range(nombre_tirage):\n",
    "    action= egreedyPolicy(K,epsilon,mean_reward(Q,N))\n",
    "    reward = tirage(action)\n",
    "    Q[action] += reward\n",
    "    N[action] += 1\n",
    "    result.append(reward)    \n"
   ]
  },
  {
   "cell_type": "code",
   "execution_count": 48,
   "id": "110283a0",
   "metadata": {},
   "outputs": [],
   "source": [
    "# stocker le résultat dans un tableau avec cumul\n",
    "result_egreedy=np.cumsum(result)"
   ]
  },
  {
   "cell_type": "code",
   "execution_count": 49,
   "id": "c6f9205c",
   "metadata": {},
   "outputs": [
    {
     "data": {
      "image/png": "[encoded data removed]",
      "text/plain": [
       "<Figure size 640x480 with 1 Axes>"
      ]
     },
     "metadata": {},
     "output_type": "display_data"
    }
   ],
   "source": [
    "# comparer les courbes\n",
    "plt.figure()\n",
    "plt.plot(result_round_robin,label=\"Round Robin\")\n",
    "plt.plot(result_greedy_optimiste,label=\"Greedy Optimiste\")\n",
    "plt.plot(result_egreedy,label=\"e-Greedy\")\n",
    "plt.legend()\n",
    "plt.show()"
   ]
  },
  {
   "cell_type": "markdown",
   "id": "4ad17b8c-4d74-4440-b0a6-2bc4209b8c8f",
   "metadata": {},
   "source": [
    "---\n",
    "# espilon greedy decay\n",
    "\n",
    "Nous avons 3 paramètres :<br>\n",
    "Nstep \n",
    "Epsilon max\n",
    "Epsilon min"
   ]
  },
  {
   "cell_type": "code",
   "execution_count": null,
   "id": "56f8a8d4-4468-4445-b7c5-ebcfdfa69df6",
   "metadata": {},
   "outputs": [],
   "source": [
    "np.random.seed(2023)\n",
    "nombre_tirage=1000\n",
    "epsilonMax=0.50\n",
    "epsilonMin=0.05\n",
    "N=nombre_tirage/10\n",
    "result=[]\n",
    "\n",
    "epsilon=epsilonMax\n",
    "for i in range(nombre_tirage):\n",
    "    action= # ?\n",
    "    reward = # ?\n",
    "    result.append(#?)   \n",
    "    \n",
    "    # asjustement d'epsilon\n",
    "    # voir cours\n",
    "\n"
   ]
  },
  {
   "cell_type": "code",
   "execution_count": null,
   "id": "c96d35dc",
   "metadata": {},
   "outputs": [],
   "source": []
  },
  {
   "cell_type": "code",
   "execution_count": null,
   "id": "8dd914ff",
   "metadata": {},
   "outputs": [],
   "source": [
    "# stocker le résultat dans un tableau avec cumul"
   ]
  },
  {
   "cell_type": "code",
   "execution_count": null,
   "id": "3672a5dd",
   "metadata": {},
   "outputs": [],
   "source": [
    "# comparer les courbes"
   ]
  },
  {
   "cell_type": "markdown",
   "id": "b5ca5ef9-ae84-49c1-9d5e-cd041eb96a9a",
   "metadata": {},
   "source": [
    "---\n",
    "# LinUCB"
   ]
  },
  {
   "attachments": {
    "245ff33c-2e56-4a2f-892c-bb24f24aeb34.png": {
     "image/png": "[encoded data removed]"
    }
   },
   "cell_type": "markdown",
   "id": "a1b9b652-8233-4818-b088-16d62158aa4d",
   "metadata": {},
   "source": [
    "![image.png](attachment:245ff33c-2e56-4a2f-892c-bb24f24aeb34.png)"
   ]
  },
  {
   "cell_type": "code",
   "execution_count": null,
   "id": "72edccb2-58c7-4f8b-b81c-1fd2014bfb9d",
   "metadata": {},
   "outputs": [],
   "source": [
    "def linUCBPolicy(mean_reward_arm,arm_usage, c , num_tirage):\n",
    "    # input\n",
    "    # mean_reward_arm : récompense moyenne par bras\n",
    "    # arm_usage : nombre d'utilisation pour tous les bras \n",
    "    # c : hyperparamètre\n",
    "    # num_tirage : numero de tirage de notre exprérience\n",
    "    \n",
    "    # votre code\n",
    "    \n",
    "    return action"
   ]
  },
  {
   "cell_type": "code",
   "execution_count": null,
   "id": "127b1d72-53be-441d-9a49-b136c32e4238",
   "metadata": {},
   "outputs": [],
   "source": [
    "np.random.seed(2023)\n",
    "nombre_tirage=100\n",
    "\n",
    "Q=np.zeros((K))\n",
    "N=np.zeros((K))\n",
    "\n",
    "result=[]\n",
    "c=0.5\n",
    "\n",
    "for i in range(nombre_tirage):\n",
    "    action= # votre code\n",
    "    reward = tirage(action)\n",
    "    Q[action] += reward\n",
    "    N[action] += 1\n",
    "    result.append(reward)   \n",
    "    \n"
   ]
  },
  {
   "cell_type": "code",
   "execution_count": null,
   "id": "eca5d879",
   "metadata": {},
   "outputs": [],
   "source": [
    "Q"
   ]
  },
  {
   "cell_type": "code",
   "execution_count": null,
   "id": "61ba52e3",
   "metadata": {},
   "outputs": [],
   "source": [
    "# stocker le résultat dans un tableau avec cumul\n",
    "\n",
    "    "
   ]
  },
  {
   "cell_type": "code",
   "execution_count": null,
   "id": "8f7c364c",
   "metadata": {},
   "outputs": [],
   "source": [
    "# comparer les courbes\n"
   ]
  },
  {
   "cell_type": "markdown",
   "id": "400e7099-d8a3-4317-b7f5-2afa8df3f019",
   "metadata": {},
   "source": [
    "---\n",
    "# Méthode du gradient"
   ]
  },
  {
   "cell_type": "markdown",
   "id": "0918da70-d3b3-447c-9140-38c7b9e45b1c",
   "metadata": {},
   "source": [
    "![static/gradient.png](static/gradient.png)"
   ]
  },
  {
   "cell_type": "markdown",
   "id": "121476df-224a-4dee-b56d-f95ea41da837",
   "metadata": {},
   "source": [
    "Soit H notre tableau des préférences"
   ]
  },
  {
   "cell_type": "code",
   "execution_count": null,
   "id": "9b51ecfa-f036-4956-b476-7a6c41a7790a",
   "metadata": {},
   "outputs": [],
   "source": [
    "def gradientPolicy(H):\n",
    "    return np.argmax(H)\n",
    "   \n",
    "\n",
    "def updatePreference(H,moyenneR,num_tirage,action,reward):\n",
    "    # en entrée : tableau des préférences H, moyenne des récompenses (baseline), numéro de tirage,a ction choisie et récompense\n",
    "    # en sortie : tablea H actualisé, nouvelle baseline ajustée\n",
    "    return H , moyenneR                                      \n",
    "    "
   ]
  },
  {
   "cell_type": "code",
   "execution_count": null,
   "id": "b45e5561-edf1-43ad-9f81-0b391bfd3f53",
   "metadata": {},
   "outputs": [],
   "source": [
    "np.random.seed(2023)\n",
    "H=np.zeros((K))\n",
    "nombre_tirage=100\n",
    "\n",
    "alpha=0.5\n",
    "gradientExp = Experiment(K,nombre_tirage,0.0,f\"gradient-alpha-{alpha}\")\n",
    "moyenneR=5\n",
    "\n",
    "for i in range(nombre_tirage):\n",
    "    action=gradientPolicy(H)\n",
    "    reward = tirage(action)\n",
    "    gradientExp.record_result(action,reward)\n",
    "    # mise à jour des préférences\n",
    "    H,moyenneR = updatePreference(H,moyenneR,i,action, reward)\n",
    "\n",
    "gradientExp.print_score()\n",
    "tools.graphResult(nombre_tirage)"
   ]
  },
  {
   "cell_type": "code",
   "execution_count": null,
   "id": "3de9c071",
   "metadata": {},
   "outputs": [],
   "source": [
    "# stocker le résultat dans un tableau avec cumul"
   ]
  },
  {
   "cell_type": "code",
   "execution_count": null,
   "id": "45be55f1",
   "metadata": {},
   "outputs": [],
   "source": [
    "# comparer les courbes"
   ]
  }
 ],
 "metadata": {
  "kernelspec": {
   "display_name": "rl2023",
   "language": "python",
   "name": "rl2023"
  },
  "language_info": {
   "codemirror_mode": {
    "name": "ipython",
    "version": 3
   },
   "file_extension": ".py",
   "mimetype": "text/x-python",
   "name": "python",
   "nbconvert_exporter": "python",
   "pygments_lexer": "ipython3",
   "version": "3.11.2"
  }
 },
 "nbformat": 4,
 "nbformat_minor": 5
}
